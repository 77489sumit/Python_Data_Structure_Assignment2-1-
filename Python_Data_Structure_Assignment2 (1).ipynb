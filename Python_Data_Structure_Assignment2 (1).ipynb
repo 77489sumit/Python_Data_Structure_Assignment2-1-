{
  "nbformat": 4,
  "nbformat_minor": 0,
  "metadata": {
    "colab": {
      "provenance": []
    },
    "kernelspec": {
      "name": "python3",
      "display_name": "Python 3"
    },
    "language_info": {
      "name": "python"
    }
  },
  "cells": [
    {
      "cell_type": "markdown",
      "source": [
        "#**Theory Questions**"
      ],
      "metadata": {
        "id": "JVzPeHpNkqeM"
      }
    },
    {
      "cell_type": "markdown",
      "source": [
        "Q1. What are data structures, and why are they important?\n",
        "    "
      ],
      "metadata": {
        "id": "-OUFVEKjkxlN"
      }
    },
    {
      "cell_type": "markdown",
      "source": [
        "Ans. Data structures organize data for efficient access and manipulation. Examples include lists, tuples, dictionaries, and sets. They are critical for optimizing algorithms and improving program performance."
      ],
      "metadata": {
        "id": "QyfPwsaCl0Tz"
      }
    },
    {
      "cell_type": "markdown",
      "source": [
        "Q2.  Explain the difference between mutable and immutable data types with examples?"
      ],
      "metadata": {
        "id": "quiHZa4Dl_qp"
      }
    },
    {
      "cell_type": "markdown",
      "source": [
        "Ans.\n",
        "\n",
        "*   Mutable: Can be changed after creation (e.g., list).\n",
        "*   Immutable: Cannot be changed after creation (e.g., tuple).\n",
        "\n"
      ],
      "metadata": {
        "id": "p-E-7J2PmM3u"
      }
    },
    {
      "cell_type": "markdown",
      "source": [
        "Q3. What are the main differences between lists and tuples in Python?"
      ],
      "metadata": {
        "id": "eUV-PyGsmmkp"
      }
    },
    {
      "cell_type": "markdown",
      "source": [
        "Ans.\n",
        "*  Lists are mutable and dynamic\n",
        "*  Tuples are immutable and static.\n",
        "*  Tuples are generally faster and used for fixed data.\n",
        "\n",
        "\n",
        "\n"
      ],
      "metadata": {
        "id": "U9Mgtw3umra0"
      }
    },
    {
      "cell_type": "markdown",
      "source": [
        "Q4. Describe how dictionaries store data?"
      ],
      "metadata": {
        "id": "V8U48P0WnINx"
      }
    },
    {
      "cell_type": "markdown",
      "source": [
        "Ans. Dictionaries use hash tables to store key-value pairs, ensuring fast lookups based on unique keys."
      ],
      "metadata": {
        "id": "HScSIA5cnPJ7"
      }
    },
    {
      "cell_type": "markdown",
      "source": [
        "Q5. Why might you use a set instead of a list in Python?"
      ],
      "metadata": {
        "id": "DMpVlNEwnVeh"
      }
    },
    {
      "cell_type": "markdown",
      "source": [
        "Ans. Sets automatically eliminate duplicates and provide faster membership tests than lists."
      ],
      "metadata": {
        "id": "v14xiZPWncej"
      }
    },
    {
      "cell_type": "markdown",
      "source": [
        "Q6. What is a string in Python, and how is it different from a list?"
      ],
      "metadata": {
        "id": "P6G6JTaInqIh"
      }
    },
    {
      "cell_type": "markdown",
      "source": [
        "Ans.  String is a sequence of characters enclosed in quotes. Unlike lists, strings are immutable and can only contain characters, whereas lists can hold multiple data types."
      ],
      "metadata": {
        "id": "as82nWvUnxUf"
      }
    },
    {
      "cell_type": "markdown",
      "source": [
        "Q7. How do tuples ensure data integrity in Python?"
      ],
      "metadata": {
        "id": "j2fcTJOPoSQl"
      }
    },
    {
      "cell_type": "markdown",
      "source": [
        "Ans. Tuples are immutable, which means their contents cannot be changed after creation, ensuring that the data remains consistent and secure."
      ],
      "metadata": {
        "id": "HPBZOXWgoXPp"
      }
    },
    {
      "cell_type": "markdown",
      "source": [
        "Q8. What is a hash table, and how does it relate to dictionaries in Python?"
      ],
      "metadata": {
        "id": "uIIIgdgcodKA"
      }
    },
    {
      "cell_type": "markdown",
      "source": [
        "Ans. A hash table is a data structure that maps keys to values using a hash function. Dictionaries in Python are implemented using hash tables for fast data retrieval.\n",
        "\n"
      ],
      "metadata": {
        "id": "wI4cSCLY0Zfj"
      }
    },
    {
      "cell_type": "markdown",
      "source": [
        "Q9. Can lists contain different data types in Python?"
      ],
      "metadata": {
        "id": "WvPUPRUT0gIs"
      }
    },
    {
      "cell_type": "markdown",
      "source": [
        "Ans. Yes, lists can hold elements of multiple data types, such as integers, strings, and even other lists or dictionaries."
      ],
      "metadata": {
        "id": "NG_1-boM0luA"
      }
    },
    {
      "cell_type": "markdown",
      "source": [
        "Q10. Explain why strings are immutable in Python?"
      ],
      "metadata": {
        "id": "RJemOzXA0x_3"
      }
    },
    {
      "cell_type": "markdown",
      "source": [
        "Ans. Strings are immutable to enhance performance, ensure thread safety, and optimize memory usage through string interning."
      ],
      "metadata": {
        "id": "FEvhtuzm1LEr"
      }
    },
    {
      "cell_type": "markdown",
      "source": [
        "Q11. What advantages do dictionaries offer over lists for certain tasks?"
      ],
      "metadata": {
        "id": "m6OP_8Zj1Qr5"
      }
    },
    {
      "cell_type": "markdown",
      "source": [
        "Ans. Dictionaries provide fast lookups for data retrieval based on keys, while lists require linear searches, which are slower."
      ],
      "metadata": {
        "id": "PCQtKMYc1WJF"
      }
    },
    {
      "cell_type": "markdown",
      "source": [
        "Q12. Describe a scenario where using a tuple would be preferable over a list?"
      ],
      "metadata": {
        "id": "ROlil1xZ1b5E"
      }
    },
    {
      "cell_type": "markdown",
      "source": [
        "Ans. When creating a fixed dataset, such as geographic coordinates (latitude and longitude), tuples ensure the data remains unchanged."
      ],
      "metadata": {
        "id": "-rgiudhC1hqX"
      }
    },
    {
      "cell_type": "markdown",
      "source": [
        "Q13. How do sets handle duplicate values in Python?"
      ],
      "metadata": {
        "id": "VEroknQ01tIR"
      }
    },
    {
      "cell_type": "markdown",
      "source": [
        "Ans. Sets automatically remove duplicate values, ensuring all elements are unique."
      ],
      "metadata": {
        "id": "6BPjwPZM2N38"
      }
    },
    {
      "cell_type": "markdown",
      "source": [
        "Q14. How does the “in” keyword work differently for lists and dictionaries?"
      ],
      "metadata": {
        "id": "zivxTOP12dio"
      }
    },
    {
      "cell_type": "markdown",
      "source": [
        "Ans. For lists, \"in\" checks for the presence of a value. For dictionaries, it checks for the presence of a key.\n",
        "\n"
      ],
      "metadata": {
        "id": "Yx_BymrA2mCK"
      }
    },
    {
      "cell_type": "markdown",
      "source": [
        "Q15. Can you modify the elements of a tuple? Explain why or why not?"
      ],
      "metadata": {
        "id": "q0p4Mw962rTE"
      }
    },
    {
      "cell_type": "markdown",
      "source": [
        "Ans. No, tuples are immutable, so their elements cannot be changed once created. This behavior ensures data integrity.\n",
        "\n"
      ],
      "metadata": {
        "id": "jSAMzs7X26L_"
      }
    },
    {
      "cell_type": "markdown",
      "source": [
        "Q16.  What is a nested dictionary, and give an example of its use case?"
      ],
      "metadata": {
        "id": "EbKjt0-72-rn"
      }
    },
    {
      "cell_type": "markdown",
      "source": [
        "Ans. A nested dictionary is a dictionary within another dictionary. Use case: storing hierarchical data like a company’s organizational structure.\n",
        "\n",
        "\n",
        "```\n",
        "company = {\n",
        "    \"HR\": {\"Manager\": \"Alice\", \"Staff\": 10},\n",
        "    \"IT\": {\"Manager\": \"Bob\", \"Staff\": 25}\n",
        "}\n",
        "```\n",
        "\n"
      ],
      "metadata": {
        "id": "WCqzkHPd3FhJ"
      }
    },
    {
      "cell_type": "markdown",
      "source": [
        "Q17. Describe the time complexity of accessing elements in a dictionary?"
      ],
      "metadata": {
        "id": "4zGGz3ib3Qmv"
      }
    },
    {
      "cell_type": "markdown",
      "source": [
        "Ans. Accessing elements in a dictionary has an average time complexity of O(1), thanks to its hash table implementation."
      ],
      "metadata": {
        "id": "GsKtU0LI3XAZ"
      }
    },
    {
      "cell_type": "markdown",
      "source": [
        "Q18. In what situations are lists preferred over dictionaries?"
      ],
      "metadata": {
        "id": "7e45RsyI3ch_"
      }
    },
    {
      "cell_type": "markdown",
      "source": [
        "Ans. Lists are preferred when maintaining order is essential, or when working with indexed data."
      ],
      "metadata": {
        "id": "BracQmsi3iXR"
      }
    },
    {
      "cell_type": "markdown",
      "source": [
        "Q19. Why are dictionaries considered unordered, and how does that affect data retrieval?"
      ],
      "metadata": {
        "id": "oSUfx4-x3ojn"
      }
    },
    {
      "cell_type": "markdown",
      "source": [
        "Ans. Dictionaries were unordered in versions before Python 3.7, meaning the order of insertion was not maintained. While they now preserve insertion order, data retrieval remains based on keys."
      ],
      "metadata": {
        "id": "7Nh2PlkH3t6W"
      }
    },
    {
      "cell_type": "markdown",
      "source": [
        "Q20. Explain the difference between a list and a dictionary in terms of data retrieval?"
      ],
      "metadata": {
        "id": "2wN2deGl3zP_"
      }
    },
    {
      "cell_type": "markdown",
      "source": [
        "Ans. Lists retrieve elements by index, whereas dictionaries retrieve values by keys."
      ],
      "metadata": {
        "id": "m1Xp10pa34jK"
      }
    },
    {
      "cell_type": "markdown",
      "source": [
        "#PRACTICAL QUESTIONS"
      ],
      "metadata": {
        "id": "Oj2NlSEg39MS"
      }
    },
    {
      "cell_type": "markdown",
      "source": [
        "Q1. Write a code to create a string with your name and print it?"
      ],
      "metadata": {
        "id": "AwYesBM74DvC"
      }
    },
    {
      "cell_type": "code",
      "execution_count": 1,
      "metadata": {
        "colab": {
          "base_uri": "https://localhost:8080/"
        },
        "id": "VrB_UVNbkjwx",
        "outputId": "be7269d1-6dfd-45b9-841e-9c68d10c701f"
      },
      "outputs": [
        {
          "output_type": "stream",
          "name": "stdout",
          "text": [
            "sumit\n"
          ]
        }
      ],
      "source": [
        "name = \"sumit\"\n",
        "print(name)"
      ]
    },
    {
      "cell_type": "markdown",
      "source": [
        "Q2. Write a code to find the length of the string \"Hello World\"?"
      ],
      "metadata": {
        "id": "scrQ__ZU4O2i"
      }
    },
    {
      "cell_type": "code",
      "source": [
        "print(len(\"Hello World\"))"
      ],
      "metadata": {
        "colab": {
          "base_uri": "https://localhost:8080/"
        },
        "id": "u_zgPNaC4X_P",
        "outputId": "e11c1f14-c19d-4e31-8ba0-8ab899c4dcdd"
      },
      "execution_count": null,
      "outputs": [
        {
          "output_type": "stream",
          "name": "stdout",
          "text": [
            "11\n"
          ]
        }
      ]
    },
    {
      "cell_type": "markdown",
      "source": [
        "Q3. Write a code to slice the first 3 characters from the string \"Python Programming\"?"
      ],
      "metadata": {
        "id": "m3si-PSb4dgX"
      }
    },
    {
      "cell_type": "code",
      "source": [
        "print(\"Python Programming\"[:3])"
      ],
      "metadata": {
        "colab": {
          "base_uri": "https://localhost:8080/"
        },
        "id": "GEntLIfk4isY",
        "outputId": "1f5856f3-311a-4e38-c604-ff2763c40fa5"
      },
      "execution_count": null,
      "outputs": [
        {
          "output_type": "stream",
          "name": "stdout",
          "text": [
            "Pyt\n"
          ]
        }
      ]
    },
    {
      "cell_type": "markdown",
      "source": [
        "Q4. Write a code to convert the string \"hello\" to uppercase?"
      ],
      "metadata": {
        "id": "dZBZYDEw4o_D"
      }
    },
    {
      "cell_type": "code",
      "source": [
        "print(\"hello\".upper())"
      ],
      "metadata": {
        "colab": {
          "base_uri": "https://localhost:8080/"
        },
        "id": "UHKI9oh94v0D",
        "outputId": "d35924f3-c317-472c-9aa5-7058d0589da1"
      },
      "execution_count": null,
      "outputs": [
        {
          "output_type": "stream",
          "name": "stdout",
          "text": [
            "HELLO\n"
          ]
        }
      ]
    },
    {
      "cell_type": "markdown",
      "source": [
        "Q5. Write a code to replace the word \"apple\" with \"orange\" in the string \"I like apple\"?"
      ],
      "metadata": {
        "id": "CPQdVDK-4uF4"
      }
    },
    {
      "cell_type": "code",
      "source": [
        "print(\"I like apple\".replace(\"apple\",\"orange\"))"
      ],
      "metadata": {
        "colab": {
          "base_uri": "https://localhost:8080/"
        },
        "id": "Jv46fSyb5GcP",
        "outputId": "ad923fac-b4ee-46c8-8c82-ea302d2130a4"
      },
      "execution_count": null,
      "outputs": [
        {
          "output_type": "stream",
          "name": "stdout",
          "text": [
            "I like orange\n"
          ]
        }
      ]
    },
    {
      "cell_type": "markdown",
      "source": [
        "Q6.  Write a code to create a list with numbers 1 to 5 and print it?"
      ],
      "metadata": {
        "id": "eJ9tbceB5VyJ"
      }
    },
    {
      "cell_type": "code",
      "source": [
        "list = [1,2,3,4,5]\n",
        "print(list)"
      ],
      "metadata": {
        "colab": {
          "base_uri": "https://localhost:8080/"
        },
        "id": "dwh5L3FG5c02",
        "outputId": "87abc440-23d5-4873-a2ac-40c2282033fe"
      },
      "execution_count": null,
      "outputs": [
        {
          "output_type": "stream",
          "name": "stdout",
          "text": [
            "[1, 2, 3, 4, 5]\n"
          ]
        }
      ]
    },
    {
      "cell_type": "markdown",
      "source": [
        "Q7. Write a code to append the number 10 to the list [1, 2, 3, 4]?"
      ],
      "metadata": {
        "id": "jFo8WjWd5cB1"
      }
    },
    {
      "cell_type": "code",
      "source": [
        "list = [1,2,3,4]\n",
        "list.append(10)\n",
        "print(list)"
      ],
      "metadata": {
        "colab": {
          "base_uri": "https://localhost:8080/"
        },
        "id": "CGIfJLnZ6DJK",
        "outputId": "1543b021-b781-4e11-beae-5c256ca26e9f"
      },
      "execution_count": null,
      "outputs": [
        {
          "output_type": "stream",
          "name": "stdout",
          "text": [
            "[1, 2, 3, 4, 10]\n"
          ]
        }
      ]
    },
    {
      "cell_type": "markdown",
      "source": [
        "Q8. Write a code to remove the number 3 from the list [1, 2, 3, 4, 5]?"
      ],
      "metadata": {
        "id": "QOxLiT1c6ivq"
      }
    },
    {
      "cell_type": "code",
      "source": [
        "list = [1,2,3,4,5]\n",
        "list.remove(3)\n",
        "print(list)"
      ],
      "metadata": {
        "colab": {
          "base_uri": "https://localhost:8080/"
        },
        "id": "MfKStyYf6o1b",
        "outputId": "bcfa199c-b2d0-4807-b328-fab4fa8b3c86"
      },
      "execution_count": null,
      "outputs": [
        {
          "output_type": "stream",
          "name": "stdout",
          "text": [
            "[1, 2, 4, 5]\n"
          ]
        }
      ]
    },
    {
      "cell_type": "markdown",
      "source": [
        "Q9. Write a code to access the second element in the list ['a', 'b', 'c', 'd']?"
      ],
      "metadata": {
        "id": "2EJWogac63vu"
      }
    },
    {
      "cell_type": "code",
      "source": [
        "my_list = ['a', 'b', 'c', 'd']\n",
        "print(my_list[1])"
      ],
      "metadata": {
        "colab": {
          "base_uri": "https://localhost:8080/"
        },
        "id": "rATojaRZ6-D2",
        "outputId": "213dbc3b-cc65-496f-813a-b6da0c2d6025"
      },
      "execution_count": null,
      "outputs": [
        {
          "output_type": "stream",
          "name": "stdout",
          "text": [
            "b\n"
          ]
        }
      ]
    },
    {
      "cell_type": "markdown",
      "source": [
        "Q10. Write a code to reverse the list [10, 20, 30, 40, 50]?"
      ],
      "metadata": {
        "id": "K8nvvrS470pE"
      }
    },
    {
      "cell_type": "code",
      "source": [
        "list = [10,20,30,40,50]\n",
        "list.reverse()\n",
        "print(list)"
      ],
      "metadata": {
        "colab": {
          "base_uri": "https://localhost:8080/"
        },
        "id": "aaykXgYV758c",
        "outputId": "6cf76ff7-b8b0-431c-dcf4-693a2978b002"
      },
      "execution_count": null,
      "outputs": [
        {
          "output_type": "stream",
          "name": "stdout",
          "text": [
            "[50, 40, 30, 20, 10]\n"
          ]
        }
      ]
    },
    {
      "cell_type": "markdown",
      "source": [
        "Q11. Write a code to create a tuple with the elements 10, 20, 30 and print it?"
      ],
      "metadata": {
        "id": "XFMQvJdH8FZt"
      }
    },
    {
      "cell_type": "code",
      "source": [
        "tuple = (10,20,30)\n",
        "print(tuple)"
      ],
      "metadata": {
        "colab": {
          "base_uri": "https://localhost:8080/"
        },
        "id": "PYXCpMpM8M2H",
        "outputId": "9578c4f3-a6ad-430b-a75a-1d8c081215ec"
      },
      "execution_count": null,
      "outputs": [
        {
          "output_type": "stream",
          "name": "stdout",
          "text": [
            "(10, 20, 30)\n"
          ]
        }
      ]
    },
    {
      "cell_type": "markdown",
      "source": [
        "Q12. Write a code to access the first element of the tuple ('apple', 'banana', 'cherry')?"
      ],
      "metadata": {
        "id": "eOZWI_zb8WGC"
      }
    },
    {
      "cell_type": "code",
      "source": [
        "tuple = ('apple','banana', 'cherry')\n",
        "print(tuple[0])"
      ],
      "metadata": {
        "colab": {
          "base_uri": "https://localhost:8080/"
        },
        "id": "5tUmOQ-O8baO",
        "outputId": "e4d0ff15-3df0-4781-e230-e65a0a49a3d1"
      },
      "execution_count": null,
      "outputs": [
        {
          "output_type": "stream",
          "name": "stdout",
          "text": [
            "apple\n"
          ]
        }
      ]
    },
    {
      "cell_type": "markdown",
      "source": [
        "Q13.  Write a code to count how many times the number 2 appears in the tuple (1, 2, 3, 2, 4, 2)?"
      ],
      "metadata": {
        "id": "5V4xT-Fo8ovZ"
      }
    },
    {
      "cell_type": "code",
      "source": [
        "my_tuple = (1, 2, 3, 2, 4, 2)\n",
        "print(my_tuple.count(2))"
      ],
      "metadata": {
        "colab": {
          "base_uri": "https://localhost:8080/"
        },
        "id": "a8JGQD7W8nO9",
        "outputId": "3d5027c2-75de-4300-db56-bc3f6bc1b16c"
      },
      "execution_count": null,
      "outputs": [
        {
          "output_type": "stream",
          "name": "stdout",
          "text": [
            "3\n"
          ]
        }
      ]
    },
    {
      "cell_type": "markdown",
      "source": [
        "Q14.  Write a code to find the index of the element \"cat\" in the tuple ('dog', 'cat', 'rabbit')?"
      ],
      "metadata": {
        "id": "tAnzozVX-8eF"
      }
    },
    {
      "cell_type": "code",
      "source": [
        "my_tuple = ('dog', 'cat', 'rabbit')\n",
        "print(my_tuple.index('cat'))"
      ],
      "metadata": {
        "colab": {
          "base_uri": "https://localhost:8080/"
        },
        "id": "D2n8wAtP_Bru",
        "outputId": "2ec3a6aa-42ee-4e34-f4bb-28c03db539d2"
      },
      "execution_count": null,
      "outputs": [
        {
          "output_type": "stream",
          "name": "stdout",
          "text": [
            "1\n"
          ]
        }
      ]
    },
    {
      "cell_type": "markdown",
      "source": [
        "Q15. Write a code to check if the element \"banana\" is in the tuple ('apple', 'orange', 'banana')?"
      ],
      "metadata": {
        "id": "d8p1_9Qs_H5Z"
      }
    },
    {
      "cell_type": "code",
      "source": [
        "my_tuple = ('apple', 'orange', 'banana')\n",
        "print(\"banana\" in my_tuple)"
      ],
      "metadata": {
        "colab": {
          "base_uri": "https://localhost:8080/"
        },
        "id": "VpWoF26T_NsN",
        "outputId": "deeb6dbf-3675-44d8-d117-9f462942c1c9"
      },
      "execution_count": null,
      "outputs": [
        {
          "output_type": "stream",
          "name": "stdout",
          "text": [
            "True\n"
          ]
        }
      ]
    },
    {
      "cell_type": "markdown",
      "source": [
        "Q16. Write a code to create a set with the elements 1, 2, 3, 4, 5 and print it?"
      ],
      "metadata": {
        "id": "mF-VUgmS_Tjj"
      }
    },
    {
      "cell_type": "code",
      "source": [
        "my_set = {1, 2, 3, 4, 5}\n",
        "print(my_set)"
      ],
      "metadata": {
        "colab": {
          "base_uri": "https://localhost:8080/"
        },
        "id": "YW1RCmDd_YEV",
        "outputId": "79458084-95be-41ea-88d1-f5c305f8a1f3"
      },
      "execution_count": null,
      "outputs": [
        {
          "output_type": "stream",
          "name": "stdout",
          "text": [
            "{1, 2, 3, 4, 5}\n"
          ]
        }
      ]
    },
    {
      "cell_type": "markdown",
      "source": [
        "Q17. Write a code to add the element 6 to the set {1, 2, 3, 4}?"
      ],
      "metadata": {
        "id": "w1x_LWUr_jY5"
      }
    },
    {
      "cell_type": "code",
      "source": [
        "my_set = {1, 2, 3, 4}\n",
        "my_set.add(6)\n",
        "print(my_set)"
      ],
      "metadata": {
        "colab": {
          "base_uri": "https://localhost:8080/"
        },
        "id": "kNuyhoFt_o3W",
        "outputId": "0390ebcf-b982-4769-c55b-8562aebf143c"
      },
      "execution_count": null,
      "outputs": [
        {
          "output_type": "stream",
          "name": "stdout",
          "text": [
            "{1, 2, 3, 4, 6}\n"
          ]
        }
      ]
    },
    {
      "cell_type": "markdown",
      "source": [
        "Q18. Write a code to create a tuple with the elements 10, 20, 30 and print it?"
      ],
      "metadata": {
        "id": "R1Ed2L7H_z6b"
      }
    },
    {
      "cell_type": "code",
      "source": [
        "tuple = (10,20,30)\n",
        "print(tuple)"
      ],
      "metadata": {
        "colab": {
          "base_uri": "https://localhost:8080/"
        },
        "id": "Oh_VlsNc_6ej",
        "outputId": "0af52fad-a023-4ad1-e227-ddd11c6a2804"
      },
      "execution_count": null,
      "outputs": [
        {
          "output_type": "stream",
          "name": "stdout",
          "text": [
            "(10, 20, 30)\n"
          ]
        }
      ]
    },
    {
      "cell_type": "markdown",
      "source": [
        "Q19. Write a code to access the first element of the tuple ('apple', 'banana', 'cherry')?"
      ],
      "metadata": {
        "id": "nnlHjSuRALkX"
      }
    },
    {
      "cell_type": "code",
      "source": [
        "tuple = ('apple','banana','cherry')\n",
        "print(tuple[0])"
      ],
      "metadata": {
        "colab": {
          "base_uri": "https://localhost:8080/"
        },
        "id": "OxVjKKd7AF11",
        "outputId": "f7f391ee-c941-4e3d-cee2-fe1c98fea1a3"
      },
      "execution_count": null,
      "outputs": [
        {
          "output_type": "stream",
          "name": "stdout",
          "text": [
            "apple\n"
          ]
        }
      ]
    },
    {
      "cell_type": "markdown",
      "source": [
        "Q20. Write a code to count how many times the number 2 appears in the tuple (1, 2, 3, 2, 4, 2)?"
      ],
      "metadata": {
        "id": "p7rVDJH6Ac6P"
      }
    },
    {
      "cell_type": "code",
      "source": [
        "tuple = (1,2,3,2,4,2)\n",
        "print(tuple.count(2))"
      ],
      "metadata": {
        "colab": {
          "base_uri": "https://localhost:8080/"
        },
        "id": "f2xfxQ3LAkP3",
        "outputId": "e0ddf590-0074-442a-8cc2-31cbcc29d563"
      },
      "execution_count": null,
      "outputs": [
        {
          "output_type": "stream",
          "name": "stdout",
          "text": [
            "3\n"
          ]
        }
      ]
    },
    {
      "cell_type": "markdown",
      "source": [
        "Q21. Write a code to find the index of the element \"cat\" in the tuple ('dog', 'cat', 'rabbit')?"
      ],
      "metadata": {
        "id": "1bhAyC3JAuIo"
      }
    },
    {
      "cell_type": "code",
      "source": [
        "tuple = ('dog','cat','rabbit')\n",
        "print(tuple.index('cat'))"
      ],
      "metadata": {
        "colab": {
          "base_uri": "https://localhost:8080/"
        },
        "id": "42afh258A11a",
        "outputId": "089e74c8-c4bb-4d9c-a0ce-0429eb594cf8"
      },
      "execution_count": null,
      "outputs": [
        {
          "output_type": "stream",
          "name": "stdout",
          "text": [
            "1\n"
          ]
        }
      ]
    },
    {
      "cell_type": "markdown",
      "source": [
        "Q22. Write a code to check if the element \"banana\" is in the tuple ('apple', 'orange', 'banana')?"
      ],
      "metadata": {
        "id": "yZVt2uqyA0xd"
      }
    },
    {
      "cell_type": "code",
      "source": [
        "tuple = ('apple','orange','banana')\n",
        "print(\"banana\" in tuple)"
      ],
      "metadata": {
        "colab": {
          "base_uri": "https://localhost:8080/"
        },
        "id": "G93TCL7wBLyf",
        "outputId": "3a22ff43-69b2-4a9a-f4a6-fe92fd15fee7"
      },
      "execution_count": null,
      "outputs": [
        {
          "output_type": "stream",
          "name": "stdout",
          "text": [
            "True\n"
          ]
        }
      ]
    },
    {
      "cell_type": "markdown",
      "source": [
        "Q23.  Write a code to create a set with the elements 1, 2, 3, 4, 5 and print it?"
      ],
      "metadata": {
        "id": "3aNdmNpJBhLC"
      }
    },
    {
      "cell_type": "code",
      "source": [
        "set = {1,2,3,4,5}\n",
        "print(set)"
      ],
      "metadata": {
        "colab": {
          "base_uri": "https://localhost:8080/"
        },
        "id": "D2U6EhaVBnVj",
        "outputId": "58bd101f-7f39-4660-cec4-a6d1739ba2bb"
      },
      "execution_count": null,
      "outputs": [
        {
          "output_type": "stream",
          "name": "stdout",
          "text": [
            "{1, 2, 3, 4, 5}\n"
          ]
        }
      ]
    },
    {
      "cell_type": "markdown",
      "source": [
        "Q24.  Write a code to add the element 6 to the set {1, 2, 3, 4}?"
      ],
      "metadata": {
        "id": "ZGrVZJB3BzjX"
      }
    },
    {
      "cell_type": "code",
      "source": [
        "set = {1,2,3,4}\n",
        "set.add(6)\n",
        "print(set)"
      ],
      "metadata": {
        "colab": {
          "base_uri": "https://localhost:8080/"
        },
        "id": "nQhPzyI0B4h4",
        "outputId": "022d0e61-87c9-45e0-834e-d3c9a78e2bdb"
      },
      "execution_count": null,
      "outputs": [
        {
          "output_type": "stream",
          "name": "stdout",
          "text": [
            "{1, 2, 3, 4, 6}\n"
          ]
        }
      ]
    }
  ]
}